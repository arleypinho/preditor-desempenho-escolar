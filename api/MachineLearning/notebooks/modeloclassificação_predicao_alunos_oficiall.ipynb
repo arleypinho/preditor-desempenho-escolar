{
  "cells": [
    {
      "cell_type": "markdown",
      "metadata": {},
      "source": [
        "<a href=\"https://github.com/arleypinho/datasets/blob/main/modeloclassifica%C3%A7%C3%A3o_predicao_alunos_oficial.ipynb\" target=\"_parent\"><img src=\"https://colab.research.google.com/assets/colab-badge.svg\" alt=\"Open In Colab\"/></a>"
      ]
    },
    {
      "cell_type": "markdown",
      "metadata": {
        "id": "otEdveLq8Hn0"
      },
      "source": [
        "## Modelo de Machine Learning MVP - Arley Silva de Pinho\n",
        "\n",
        "# Objetivo:\n",
        "# Este modelo de machine learning visa prever se um aluno será Aprovado ou Reprovado\n",
        "# com base em características e comportamentos acadêmicos.\n",
        "\n",
        "# Variáveis de Entrada:\n",
        "# O modelo utiliza as seguintes variáveis: idade, gênero, etnia, nível de educação dos pais,\n",
        "# horas de estudo semanais, número de faltas, participação em aulas de reforço, apoio dos pais,\n",
        "# atividades extracurriculares, esportes, música e voluntariado.\n",
        "\n",
        "# Funcionamento:\n",
        "# Baseado em um classificador Support Vector Machine (SVM), o modelo foi treinado em um conjunto\n",
        "# de dados rotulado e otimizado com escalonamento de dados e ajuste de hiperparâmetros.\n",
        "\n",
        "# Interpretação:\n",
        "# Um valor de 1 indica uma previsão de possível Aprovação, enquanto um valor de 0 indica uma possível Reprovação.\n",
        "\n",
        "# Uso:\n",
        "# Este modelo pode ser aplicado em contextos educacionais para identificar áreas de risco no desempenho\n",
        "# acadêmico, permitindo intervenções direcionadas para estudantes em risco de baixo desempenho.\n"
      ]
    },
    {
      "cell_type": "code",
      "execution_count": 1,
      "metadata": {
        "id": "RCn8CH4M7wF-"
      },
      "outputs": [],
      "source": [
        "# configuração para não exibir os warnings\n",
        "import warnings\n",
        "warnings.filterwarnings(\"ignore\")\n",
        "\n",
        "# Imports necessários\n",
        "import pandas as pd\n",
        "import numpy as np\n",
        "import pickle\n",
        "import matplotlib.pyplot as plt\n",
        "from sklearn.preprocessing import StandardScaler\n",
        "from sklearn.preprocessing import MinMaxScaler\n",
        "from sklearn.model_selection import train_test_split\n",
        "from sklearn.model_selection import KFold\n",
        "from sklearn.model_selection import StratifiedKFold\n",
        "from sklearn.model_selection import cross_val_score\n",
        "from sklearn.model_selection import GridSearchCV\n",
        "from sklearn.metrics import accuracy_score\n",
        "from sklearn.pipeline import Pipeline\n",
        "from sklearn.tree import DecisionTreeClassifier\n",
        "from sklearn.neighbors import KNeighborsClassifier\n",
        "from sklearn.naive_bayes import GaussianNB\n",
        "from sklearn.svm import SVC"
      ]
    },
    {
      "cell_type": "markdown",
      "metadata": {
        "id": "2PcB0Efd-MS4"
      },
      "source": [
        "## Carga do Dataset\n",
        "\n",
        "# Nesta seção, informamos a URL direta para download do dataset que será utilizado para treinar o modelo. O dataset contém informações sobre o desempenho dos alunos e suas características, que serão fundamentais para as previsões.\n",
        "# Utilizamos a biblioteca **pandas** para ler o arquivo CSV diretamente da URL. Após a leitura, exibimos as primeiras linhas do dataset para termos uma visão inicial dos dados disponíveis. Isso nos ajudará a entender as variáveis e suas respectivas distribuições antes de prosseguir com a análise e o pré-processamento.\n"
      ]
    },
    {
      "cell_type": "code",
      "execution_count": 2,
      "metadata": {
        "colab": {
          "base_uri": "https://localhost:8080/",
          "height": 226
        },
        "id": "29AFuCPtvG_i",
        "outputId": "eadef587-3a4a-4b3b-f912-d942730a4702"
      },
      "outputs": [
        {
          "data": {
            "application/vnd.google.colaboratory.intrinsic+json": {
              "summary": "{\n  \"name\": \"dataset\",\n  \"rows\": 2392,\n  \"fields\": [\n    {\n      \"column\": \"StudentID\",\n      \"properties\": {\n        \"dtype\": \"number\",\n        \"std\": 690,\n        \"min\": 1001,\n        \"max\": 3392,\n        \"num_unique_values\": 2392,\n        \"samples\": [\n          2005,\n          1197,\n          3343\n        ],\n        \"semantic_type\": \"\",\n        \"description\": \"\"\n      }\n    },\n    {\n      \"column\": \"Age\",\n      \"properties\": {\n        \"dtype\": \"number\",\n        \"std\": 1,\n        \"min\": 15,\n        \"max\": 18,\n        \"num_unique_values\": 4,\n        \"samples\": [\n          18,\n          16,\n          17\n        ],\n        \"semantic_type\": \"\",\n        \"description\": \"\"\n      }\n    },\n    {\n      \"column\": \"Gender\",\n      \"properties\": {\n        \"dtype\": \"number\",\n        \"std\": 0,\n        \"min\": 0,\n        \"max\": 1,\n        \"num_unique_values\": 2,\n        \"samples\": [\n          0,\n          1\n        ],\n        \"semantic_type\": \"\",\n        \"description\": \"\"\n      }\n    },\n    {\n      \"column\": \"Ethnicity\",\n      \"properties\": {\n        \"dtype\": \"number\",\n        \"std\": 1,\n        \"min\": 0,\n        \"max\": 3,\n        \"num_unique_values\": 4,\n        \"samples\": [\n          2,\n          3\n        ],\n        \"semantic_type\": \"\",\n        \"description\": \"\"\n      }\n    },\n    {\n      \"column\": \"ParentalEducation\",\n      \"properties\": {\n        \"dtype\": \"number\",\n        \"std\": 1,\n        \"min\": 0,\n        \"max\": 4,\n        \"num_unique_values\": 5,\n        \"samples\": [\n          1,\n          0\n        ],\n        \"semantic_type\": \"\",\n        \"description\": \"\"\n      }\n    },\n    {\n      \"column\": \"StudyTimeWeekly\",\n      \"properties\": {\n        \"dtype\": \"number\",\n        \"std\": 5.652774235860264,\n        \"min\": 0.001056538645936,\n        \"max\": 19.97809399526153,\n        \"num_unique_values\": 2392,\n        \"samples\": [\n          0.1357634804717955,\n          1.9899245236127627\n        ],\n        \"semantic_type\": \"\",\n        \"description\": \"\"\n      }\n    },\n    {\n      \"column\": \"Absences\",\n      \"properties\": {\n        \"dtype\": \"number\",\n        \"std\": 8,\n        \"min\": 0,\n        \"max\": 29,\n        \"num_unique_values\": 30,\n        \"samples\": [\n          18,\n          25\n        ],\n        \"semantic_type\": \"\",\n        \"description\": \"\"\n      }\n    },\n    {\n      \"column\": \"Tutoring\",\n      \"properties\": {\n        \"dtype\": \"number\",\n        \"std\": 0,\n        \"min\": 0,\n        \"max\": 1,\n        \"num_unique_values\": 2,\n        \"samples\": [\n          0,\n          1\n        ],\n        \"semantic_type\": \"\",\n        \"description\": \"\"\n      }\n    },\n    {\n      \"column\": \"ParentalSupport\",\n      \"properties\": {\n        \"dtype\": \"number\",\n        \"std\": 1,\n        \"min\": 0,\n        \"max\": 4,\n        \"num_unique_values\": 5,\n        \"samples\": [\n          1,\n          0\n        ],\n        \"semantic_type\": \"\",\n        \"description\": \"\"\n      }\n    },\n    {\n      \"column\": \"Extracurricular\",\n      \"properties\": {\n        \"dtype\": \"number\",\n        \"std\": 0,\n        \"min\": 0,\n        \"max\": 1,\n        \"num_unique_values\": 2,\n        \"samples\": [\n          1,\n          0\n        ],\n        \"semantic_type\": \"\",\n        \"description\": \"\"\n      }\n    },\n    {\n      \"column\": \"Sports\",\n      \"properties\": {\n        \"dtype\": \"number\",\n        \"std\": 0,\n        \"min\": 0,\n        \"max\": 1,\n        \"num_unique_values\": 2,\n        \"samples\": [\n          1,\n          0\n        ],\n        \"semantic_type\": \"\",\n        \"description\": \"\"\n      }\n    },\n    {\n      \"column\": \"Music\",\n      \"properties\": {\n        \"dtype\": \"number\",\n        \"std\": 0,\n        \"min\": 0,\n        \"max\": 1,\n        \"num_unique_values\": 2,\n        \"samples\": [\n          0,\n          1\n        ],\n        \"semantic_type\": \"\",\n        \"description\": \"\"\n      }\n    },\n    {\n      \"column\": \"Volunteering\",\n      \"properties\": {\n        \"dtype\": \"number\",\n        \"std\": 0,\n        \"min\": 0,\n        \"max\": 1,\n        \"num_unique_values\": 2,\n        \"samples\": [\n          1,\n          0\n        ],\n        \"semantic_type\": \"\",\n        \"description\": \"\"\n      }\n    },\n    {\n      \"column\": \"GPA\",\n      \"properties\": {\n        \"dtype\": \"number\",\n        \"std\": 0.9151558203249592,\n        \"min\": 0.0,\n        \"max\": 4.0,\n        \"num_unique_values\": 2371,\n        \"samples\": [\n          3.3104012689001965,\n          3.4577117259752934\n        ],\n        \"semantic_type\": \"\",\n        \"description\": \"\"\n      }\n    },\n    {\n      \"column\": \"GradeClass\",\n      \"properties\": {\n        \"dtype\": \"number\",\n        \"std\": 1.2339075602260876,\n        \"min\": 0.0,\n        \"max\": 4.0,\n        \"num_unique_values\": 5,\n        \"samples\": [\n          1.0,\n          0.0\n        ],\n        \"semantic_type\": \"\",\n        \"description\": \"\"\n      }\n    }\n  ]\n}",
              "type": "dataframe",
              "variable_name": "dataset"
            },
            "text/html": [
              "\n",
              "  <div id=\"df-688626d2-74cd-424b-8e8b-37d46c538369\" class=\"colab-df-container\">\n",
              "    <div>\n",
              "<style scoped>\n",
              "    .dataframe tbody tr th:only-of-type {\n",
              "        vertical-align: middle;\n",
              "    }\n",
              "\n",
              "    .dataframe tbody tr th {\n",
              "        vertical-align: top;\n",
              "    }\n",
              "\n",
              "    .dataframe thead th {\n",
              "        text-align: right;\n",
              "    }\n",
              "</style>\n",
              "<table border=\"1\" class=\"dataframe\">\n",
              "  <thead>\n",
              "    <tr style=\"text-align: right;\">\n",
              "      <th></th>\n",
              "      <th>StudentID</th>\n",
              "      <th>Age</th>\n",
              "      <th>Gender</th>\n",
              "      <th>Ethnicity</th>\n",
              "      <th>ParentalEducation</th>\n",
              "      <th>StudyTimeWeekly</th>\n",
              "      <th>Absences</th>\n",
              "      <th>Tutoring</th>\n",
              "      <th>ParentalSupport</th>\n",
              "      <th>Extracurricular</th>\n",
              "      <th>Sports</th>\n",
              "      <th>Music</th>\n",
              "      <th>Volunteering</th>\n",
              "      <th>GPA</th>\n",
              "      <th>GradeClass</th>\n",
              "    </tr>\n",
              "  </thead>\n",
              "  <tbody>\n",
              "    <tr>\n",
              "      <th>0</th>\n",
              "      <td>1001</td>\n",
              "      <td>17</td>\n",
              "      <td>1</td>\n",
              "      <td>0</td>\n",
              "      <td>2</td>\n",
              "      <td>19.833723</td>\n",
              "      <td>7</td>\n",
              "      <td>1</td>\n",
              "      <td>2</td>\n",
              "      <td>0</td>\n",
              "      <td>0</td>\n",
              "      <td>1</td>\n",
              "      <td>0</td>\n",
              "      <td>2.929196</td>\n",
              "      <td>2.0</td>\n",
              "    </tr>\n",
              "    <tr>\n",
              "      <th>1</th>\n",
              "      <td>1002</td>\n",
              "      <td>18</td>\n",
              "      <td>0</td>\n",
              "      <td>0</td>\n",
              "      <td>1</td>\n",
              "      <td>15.408756</td>\n",
              "      <td>0</td>\n",
              "      <td>0</td>\n",
              "      <td>1</td>\n",
              "      <td>0</td>\n",
              "      <td>0</td>\n",
              "      <td>0</td>\n",
              "      <td>0</td>\n",
              "      <td>3.042915</td>\n",
              "      <td>1.0</td>\n",
              "    </tr>\n",
              "    <tr>\n",
              "      <th>2</th>\n",
              "      <td>1003</td>\n",
              "      <td>15</td>\n",
              "      <td>0</td>\n",
              "      <td>2</td>\n",
              "      <td>3</td>\n",
              "      <td>4.210570</td>\n",
              "      <td>26</td>\n",
              "      <td>0</td>\n",
              "      <td>2</td>\n",
              "      <td>0</td>\n",
              "      <td>0</td>\n",
              "      <td>0</td>\n",
              "      <td>0</td>\n",
              "      <td>0.112602</td>\n",
              "      <td>4.0</td>\n",
              "    </tr>\n",
              "    <tr>\n",
              "      <th>3</th>\n",
              "      <td>1004</td>\n",
              "      <td>17</td>\n",
              "      <td>1</td>\n",
              "      <td>0</td>\n",
              "      <td>3</td>\n",
              "      <td>10.028829</td>\n",
              "      <td>14</td>\n",
              "      <td>0</td>\n",
              "      <td>3</td>\n",
              "      <td>1</td>\n",
              "      <td>0</td>\n",
              "      <td>0</td>\n",
              "      <td>0</td>\n",
              "      <td>2.054218</td>\n",
              "      <td>3.0</td>\n",
              "    </tr>\n",
              "    <tr>\n",
              "      <th>4</th>\n",
              "      <td>1005</td>\n",
              "      <td>17</td>\n",
              "      <td>1</td>\n",
              "      <td>0</td>\n",
              "      <td>2</td>\n",
              "      <td>4.672495</td>\n",
              "      <td>17</td>\n",
              "      <td>1</td>\n",
              "      <td>3</td>\n",
              "      <td>0</td>\n",
              "      <td>0</td>\n",
              "      <td>0</td>\n",
              "      <td>0</td>\n",
              "      <td>1.288061</td>\n",
              "      <td>4.0</td>\n",
              "    </tr>\n",
              "  </tbody>\n",
              "</table>\n",
              "</div>\n",
              "    <div class=\"colab-df-buttons\">\n",
              "\n",
              "  <div class=\"colab-df-container\">\n",
              "    <button class=\"colab-df-convert\" onclick=\"convertToInteractive('df-688626d2-74cd-424b-8e8b-37d46c538369')\"\n",
              "            title=\"Convert this dataframe to an interactive table.\"\n",
              "            style=\"display:none;\">\n",
              "\n",
              "  <svg xmlns=\"http://www.w3.org/2000/svg\" height=\"24px\" viewBox=\"0 -960 960 960\">\n",
              "    <path d=\"M120-120v-720h720v720H120Zm60-500h600v-160H180v160Zm220 220h160v-160H400v160Zm0 220h160v-160H400v160ZM180-400h160v-160H180v160Zm440 0h160v-160H620v160ZM180-180h160v-160H180v160Zm440 0h160v-160H620v160Z\"/>\n",
              "  </svg>\n",
              "    </button>\n",
              "\n",
              "  <style>\n",
              "    .colab-df-container {\n",
              "      display:flex;\n",
              "      gap: 12px;\n",
              "    }\n",
              "\n",
              "    .colab-df-convert {\n",
              "      background-color: #E8F0FE;\n",
              "      border: none;\n",
              "      border-radius: 50%;\n",
              "      cursor: pointer;\n",
              "      display: none;\n",
              "      fill: #1967D2;\n",
              "      height: 32px;\n",
              "      padding: 0 0 0 0;\n",
              "      width: 32px;\n",
              "    }\n",
              "\n",
              "    .colab-df-convert:hover {\n",
              "      background-color: #E2EBFA;\n",
              "      box-shadow: 0px 1px 2px rgba(60, 64, 67, 0.3), 0px 1px 3px 1px rgba(60, 64, 67, 0.15);\n",
              "      fill: #174EA6;\n",
              "    }\n",
              "\n",
              "    .colab-df-buttons div {\n",
              "      margin-bottom: 4px;\n",
              "    }\n",
              "\n",
              "    [theme=dark] .colab-df-convert {\n",
              "      background-color: #3B4455;\n",
              "      fill: #D2E3FC;\n",
              "    }\n",
              "\n",
              "    [theme=dark] .colab-df-convert:hover {\n",
              "      background-color: #434B5C;\n",
              "      box-shadow: 0px 1px 3px 1px rgba(0, 0, 0, 0.15);\n",
              "      filter: drop-shadow(0px 1px 2px rgba(0, 0, 0, 0.3));\n",
              "      fill: #FFFFFF;\n",
              "    }\n",
              "  </style>\n",
              "\n",
              "    <script>\n",
              "      const buttonEl =\n",
              "        document.querySelector('#df-688626d2-74cd-424b-8e8b-37d46c538369 button.colab-df-convert');\n",
              "      buttonEl.style.display =\n",
              "        google.colab.kernel.accessAllowed ? 'block' : 'none';\n",
              "\n",
              "      async function convertToInteractive(key) {\n",
              "        const element = document.querySelector('#df-688626d2-74cd-424b-8e8b-37d46c538369');\n",
              "        const dataTable =\n",
              "          await google.colab.kernel.invokeFunction('convertToInteractive',\n",
              "                                                    [key], {});\n",
              "        if (!dataTable) return;\n",
              "\n",
              "        const docLinkHtml = 'Like what you see? Visit the ' +\n",
              "          '<a target=\"_blank\" href=https://colab.research.google.com/notebooks/data_table.ipynb>data table notebook</a>'\n",
              "          + ' to learn more about interactive tables.';\n",
              "        element.innerHTML = '';\n",
              "        dataTable['output_type'] = 'display_data';\n",
              "        await google.colab.output.renderOutput(dataTable, element);\n",
              "        const docLink = document.createElement('div');\n",
              "        docLink.innerHTML = docLinkHtml;\n",
              "        element.appendChild(docLink);\n",
              "      }\n",
              "    </script>\n",
              "  </div>\n",
              "\n",
              "\n",
              "<div id=\"df-73e8c744-8e54-4dcb-9603-4f78c7e62a2e\">\n",
              "  <button class=\"colab-df-quickchart\" onclick=\"quickchart('df-73e8c744-8e54-4dcb-9603-4f78c7e62a2e')\"\n",
              "            title=\"Suggest charts\"\n",
              "            style=\"display:none;\">\n",
              "\n",
              "<svg xmlns=\"http://www.w3.org/2000/svg\" height=\"24px\"viewBox=\"0 0 24 24\"\n",
              "     width=\"24px\">\n",
              "    <g>\n",
              "        <path d=\"M19 3H5c-1.1 0-2 .9-2 2v14c0 1.1.9 2 2 2h14c1.1 0 2-.9 2-2V5c0-1.1-.9-2-2-2zM9 17H7v-7h2v7zm4 0h-2V7h2v10zm4 0h-2v-4h2v4z\"/>\n",
              "    </g>\n",
              "</svg>\n",
              "  </button>\n",
              "\n",
              "<style>\n",
              "  .colab-df-quickchart {\n",
              "      --bg-color: #E8F0FE;\n",
              "      --fill-color: #1967D2;\n",
              "      --hover-bg-color: #E2EBFA;\n",
              "      --hover-fill-color: #174EA6;\n",
              "      --disabled-fill-color: #AAA;\n",
              "      --disabled-bg-color: #DDD;\n",
              "  }\n",
              "\n",
              "  [theme=dark] .colab-df-quickchart {\n",
              "      --bg-color: #3B4455;\n",
              "      --fill-color: #D2E3FC;\n",
              "      --hover-bg-color: #434B5C;\n",
              "      --hover-fill-color: #FFFFFF;\n",
              "      --disabled-bg-color: #3B4455;\n",
              "      --disabled-fill-color: #666;\n",
              "  }\n",
              "\n",
              "  .colab-df-quickchart {\n",
              "    background-color: var(--bg-color);\n",
              "    border: none;\n",
              "    border-radius: 50%;\n",
              "    cursor: pointer;\n",
              "    display: none;\n",
              "    fill: var(--fill-color);\n",
              "    height: 32px;\n",
              "    padding: 0;\n",
              "    width: 32px;\n",
              "  }\n",
              "\n",
              "  .colab-df-quickchart:hover {\n",
              "    background-color: var(--hover-bg-color);\n",
              "    box-shadow: 0 1px 2px rgba(60, 64, 67, 0.3), 0 1px 3px 1px rgba(60, 64, 67, 0.15);\n",
              "    fill: var(--button-hover-fill-color);\n",
              "  }\n",
              "\n",
              "  .colab-df-quickchart-complete:disabled,\n",
              "  .colab-df-quickchart-complete:disabled:hover {\n",
              "    background-color: var(--disabled-bg-color);\n",
              "    fill: var(--disabled-fill-color);\n",
              "    box-shadow: none;\n",
              "  }\n",
              "\n",
              "  .colab-df-spinner {\n",
              "    border: 2px solid var(--fill-color);\n",
              "    border-color: transparent;\n",
              "    border-bottom-color: var(--fill-color);\n",
              "    animation:\n",
              "      spin 1s steps(1) infinite;\n",
              "  }\n",
              "\n",
              "  @keyframes spin {\n",
              "    0% {\n",
              "      border-color: transparent;\n",
              "      border-bottom-color: var(--fill-color);\n",
              "      border-left-color: var(--fill-color);\n",
              "    }\n",
              "    20% {\n",
              "      border-color: transparent;\n",
              "      border-left-color: var(--fill-color);\n",
              "      border-top-color: var(--fill-color);\n",
              "    }\n",
              "    30% {\n",
              "      border-color: transparent;\n",
              "      border-left-color: var(--fill-color);\n",
              "      border-top-color: var(--fill-color);\n",
              "      border-right-color: var(--fill-color);\n",
              "    }\n",
              "    40% {\n",
              "      border-color: transparent;\n",
              "      border-right-color: var(--fill-color);\n",
              "      border-top-color: var(--fill-color);\n",
              "    }\n",
              "    60% {\n",
              "      border-color: transparent;\n",
              "      border-right-color: var(--fill-color);\n",
              "    }\n",
              "    80% {\n",
              "      border-color: transparent;\n",
              "      border-right-color: var(--fill-color);\n",
              "      border-bottom-color: var(--fill-color);\n",
              "    }\n",
              "    90% {\n",
              "      border-color: transparent;\n",
              "      border-bottom-color: var(--fill-color);\n",
              "    }\n",
              "  }\n",
              "</style>\n",
              "\n",
              "  <script>\n",
              "    async function quickchart(key) {\n",
              "      const quickchartButtonEl =\n",
              "        document.querySelector('#' + key + ' button');\n",
              "      quickchartButtonEl.disabled = true;  // To prevent multiple clicks.\n",
              "      quickchartButtonEl.classList.add('colab-df-spinner');\n",
              "      try {\n",
              "        const charts = await google.colab.kernel.invokeFunction(\n",
              "            'suggestCharts', [key], {});\n",
              "      } catch (error) {\n",
              "        console.error('Error during call to suggestCharts:', error);\n",
              "      }\n",
              "      quickchartButtonEl.classList.remove('colab-df-spinner');\n",
              "      quickchartButtonEl.classList.add('colab-df-quickchart-complete');\n",
              "    }\n",
              "    (() => {\n",
              "      let quickchartButtonEl =\n",
              "        document.querySelector('#df-73e8c744-8e54-4dcb-9603-4f78c7e62a2e button');\n",
              "      quickchartButtonEl.style.display =\n",
              "        google.colab.kernel.accessAllowed ? 'block' : 'none';\n",
              "    })();\n",
              "  </script>\n",
              "</div>\n",
              "\n",
              "    </div>\n",
              "  </div>\n"
            ],
            "text/plain": [
              "   StudentID  Age  Gender  Ethnicity  ParentalEducation  StudyTimeWeekly  \\\n",
              "0       1001   17       1          0                  2        19.833723   \n",
              "1       1002   18       0          0                  1        15.408756   \n",
              "2       1003   15       0          2                  3         4.210570   \n",
              "3       1004   17       1          0                  3        10.028829   \n",
              "4       1005   17       1          0                  2         4.672495   \n",
              "\n",
              "   Absences  Tutoring  ParentalSupport  Extracurricular  Sports  Music  \\\n",
              "0         7         1                2                0       0      1   \n",
              "1         0         0                1                0       0      0   \n",
              "2        26         0                2                0       0      0   \n",
              "3        14         0                3                1       0      0   \n",
              "4        17         1                3                0       0      0   \n",
              "\n",
              "   Volunteering       GPA  GradeClass  \n",
              "0             0  2.929196         2.0  \n",
              "1             0  3.042915         1.0  \n",
              "2             0  0.112602         4.0  \n",
              "3             0  2.054218         3.0  \n",
              "4             0  1.288061         4.0  "
            ]
          },
          "execution_count": 2,
          "metadata": {},
          "output_type": "execute_result"
        }
      ],
      "source": [
        "# Informa a URL direta para download do dataset\n",
        "url = \"https://raw.githubusercontent.com/arleypinho/datasets/main/Student_performance_data%20_.csv\"\n",
        "\n",
        "# Lê o arquivo\n",
        "dataset = pd.read_csv(url)\n",
        "\n",
        "# Mostra as primeiras linhas do dataset\n",
        "dataset.head()\n"
      ]
    },
    {
      "cell_type": "markdown",
      "metadata": {
        "id": "mE4-PIaTAfKX"
      },
      "source": [
        "## Separação em conjunto de treino e conjunto de teste com holdout\n",
        "\n",
        "# Nesta seção, definimos o tamanho do conjunto de teste e a semente aleatória para garantir a reprodutibilidade dos resultados. O conjunto de teste será 20% do total, enquanto os 80% restantes serão utilizados para o treinamento do modelo.\n",
        "\n",
        "# Também simplificamos a variável-alvo **GradeClass**, transformando-a em uma variável binária. As classes 0, 1 e 2 serão mapeadas para 1 (indicando sucesso), enquanto as demais serão mapeadas para 0 (indicando insucesso). Isso facilita a interpretação dos resultados do modelo.\n",
        "\n",
        "# A seguir, separamos os dados em variáveis independentes (X) e a variável dependente (y). As variáveis independentes incluem todas as colunas, exceto 'StudentID', 'GradeClass' e 'GPA', que não são necessárias para a previsão.\n",
        "\n",
        "# Utilizamos a função `train_test_split` para dividir os dados em conjuntos de treinamento e teste, garantindo que a distribuição da variável-alvo seja preservada através do parâmetro `stratify`. Isso é importante para que o modelo tenha uma representação equilibrada de ambas as classes no conjunto de teste.\n",
        "\n",
        "# Por fim, configuramos os parâmetros para a validação cruzada. Optamos por uma validação cruzada estratificada com 10 partições, permitindo uma avaliação mais robusta da performance do modelo. A semente aleatória é utilizada novamente para garantir que os resultados sejam reprodutíveis.\n"
      ]
    },
    {
      "cell_type": "code",
      "execution_count": 3,
      "metadata": {
        "id": "fEiAm3LEAfPt"
      },
      "outputs": [],
      "source": [
        "# Definir o tamanho do conjunto de teste e a semente aleatória\n",
        "test_size = 0.20 # tamanho do conjunto de teste (20%)\n",
        "seed = 7 # semente aleatória para reprodutibilidade\n",
        "\n",
        "# Simplificando a variável-alvo\n",
        "dataset['GradeClass'] = dataset['GradeClass'].apply(lambda x: 1 if x in [0, 1, 2] else 0)\n",
        "# Separação em conjuntos de treino e teste\n",
        "X = dataset.drop(columns=['StudentID', 'GradeClass', 'GPA'])\n",
        "y = dataset['GradeClass']\n",
        "\n",
        "# Divisão dos dados em treino e teste (com estratificação)\n",
        "X_train, X_test, y_train, y_test = train_test_split(X, y,\n",
        "                                                    test_size=test_size,\n",
        "                                                    shuffle=True,\n",
        "                                                    random_state=seed,\n",
        "                                                    stratify=y)\n",
        "\n",
        "# Parâmetros e partições da validação cruzada\n",
        "scoring = 'accuracy'\n",
        "num_particoes = 10\n",
        "kfold = StratifiedKFold(n_splits=num_particoes, shuffle=True, random_state=seed)\n"
      ]
    },
    {
      "cell_type": "markdown",
      "metadata": {
        "id": "f2OGe0DtAfU4"
      },
      "source": [
        "## Modelagem e Inferência"
      ]
    },
    {
      "cell_type": "markdown",
      "metadata": {
        "id": "pwHzQpbX9QQh"
      },
      "source": [
        "### Criação e avaliação de modelos: linha base\n",
        "\n",
        "# Nesta seção, definimos uma semente global para garantir a reprodutibilidade dos resultados em todas as operações aleatórias. Em seguida, criamos uma lista para armazenar os modelos de machine learning que serão avaliados.\n",
        "\n",
        "# Os modelos escolhidos para esta análise incluem:\n",
        "# - **KNN (K-Nearest Neighbors)**: Um algoritmo simples e eficaz que classifica uma amostra com base na maioria das classes de seus vizinhos mais próximos.\n",
        "# - **CART (Classification and Regression Trees)**: Um classificador que utiliza árvores de decisão para dividir os dados em subconjuntos homogeneizados.\n",
        "# - **NB (Naive Bayes)**: Um modelo probabilístico baseado no teorema de Bayes, que assume que as características são independentes entre si.\n",
        "# - **SVM (Support Vector Machine)**: Um classificador que busca o hiperplano que maximiza a margem entre as classes.\n",
        "\n",
        "# Para cada modelo, utilizamos a validação cruzada estratificada com 10 partições para avaliar sua performance. O resultado da acurácia média e o desvio padrão são calculados e exibidos para cada modelo.\n",
        "\n",
        "# Por fim, geramos um boxplot para visualizar a comparação das acurácias dos diferentes modelos. Esse gráfico nos permite identificar rapidamente qual modelo apresenta melhor desempenho em termos de acurácia, além de visualizar a variabilidade dos resultados.\n"
      ]
    },
    {
      "cell_type": "code",
      "execution_count": 4,
      "metadata": {
        "colab": {
          "base_uri": "https://localhost:8080/",
          "height": 1000
        },
        "id": "eAhfSnnIAfke",
        "outputId": "491ca69b-fc11-4ffd-c257-645b325ddb42"
      },
      "outputs": [
        {
          "name": "stdout",
          "output_type": "stream",
          "text": [
            "KNN: 0.866705 (0.027127)\n",
            "CART: 0.802424 (0.023306)\n",
            "NB: 0.877160 (0.017620)\n",
            "SVM: 0.880309 (0.025754)\n"
          ]
        },
        {
          "data": {
            "image/png": "[encoded data removed]",
            "text/plain": [
              "<Figure size 1500x1000 with 1 Axes>"
            ]
          },
          "metadata": {},
          "output_type": "display_data"
        }
      ],
      "source": [
        "# Definir uma semente global\n",
        "np.random.seed(7)\n",
        "\n",
        "# Lista que armazenará os modelos\n",
        "models = []\n",
        "\n",
        "# Criando os modelos e adicionando-os na lista de modelos\n",
        "models.append(('KNN', KNeighborsClassifier()))\n",
        "models.append(('CART', DecisionTreeClassifier()))\n",
        "models.append(('NB', GaussianNB()))\n",
        "models.append(('SVM', SVC()))\n",
        "\n",
        "# Listas para armazenar os resultados\n",
        "results = []\n",
        "names = []\n",
        "\n",
        "# Avaliação dos modelos\n",
        "for name, model in models:\n",
        "    # Avaliação usando validação cruzada\n",
        "    cv_results = cross_val_score(model, X_train, y_train, cv=kfold, scoring=scoring)\n",
        "    results.append(cv_results)\n",
        "    names.append(name)\n",
        "    # Exibição dos resultados\n",
        "    msg = \"%s: %f (%f)\" % (name, cv_results.mean(), cv_results.std())\n",
        "    print(msg)\n",
        "\n",
        "# Boxplot de comparação dos modelos\n",
        "fig = plt.figure(figsize=(15,10))\n",
        "fig.suptitle('Comparação dos Modelos')\n",
        "ax = fig.add_subplot(111)\n",
        "plt.boxplot(results)\n",
        "ax.set_xticklabels(names)\n",
        "plt.xlabel('Modelos')\n",
        "plt.ylabel('Acurácia')\n",
        "plt.show()"
      ]
    },
    {
      "cell_type": "markdown",
      "metadata": {
        "id": "olo7SPk2BvvW"
      },
      "source": [
        "### Criação e avaliação de modelos: dados padronizados e normalizados\n",
        "\n",
        "# Nesta seção, definimos uma semente global para garantir a reprodutibilidade dos resultados. Em seguida, criamos listas para armazenar os pipelines e os resultados obtidos durante a avaliação dos modelos.\n",
        "\n",
        "# Utilizamos quatro algoritmos de machine learning: KNN, CART, Naive Bayes e SVM, cada um testado em três configurações diferentes de pré-processamento de dados:\n",
        "# 1. **Dataset Original**: Os dados são utilizados sem qualquer transformação.\n",
        "# 2. **Dataset Padronizado**: Os dados são padronizados utilizando `StandardScaler`, que remove a média e escala os dados para a unidade de variância.\n",
        "# 3. **Dataset Normalizado**: Os dados são normalizados utilizando `MinMaxScaler`, que escala os dados para um intervalo específico, geralmente entre 0 e 1.\n",
        "\n",
        "# Cada pipeline é criado utilizando a classe `Pipeline`, que permite encadear transformações e a estimativa final. Para cada modelo, realizamos a validação cruzada utilizando a técnica de `StratifiedKFold` para garantir que a distribuição das classes seja mantida em cada partição.\n",
        "\n",
        "# Os resultados da validação cruzada são calculados e apresentados, mostrando a acurácia média e o desvio padrão para cada modelo. Para facilitar a comparação, geramos um boxplot que ilustra as performances dos modelos em cada uma das configurações de pré-processamento.\n"
      ]
    },
    {
      "cell_type": "code",
      "execution_count": 5,
      "metadata": {
        "colab": {
          "base_uri": "https://localhost:8080/",
          "height": 674
        },
        "id": "hmQbiYQdBRDW",
        "outputId": "139cb4be-c223-4db2-c988-18d5372ac65f"
      },
      "outputs": [
        {
          "name": "stdout",
          "output_type": "stream",
          "text": [
            "KNN-orig: 0.867 (0.027)\n",
            "CART-orig: 0.802 (0.023)\n",
            "NB-orig: 0.877 (0.018)\n",
            "SVM-orig: 0.880 (0.026)\n",
            "KNN-padr: 0.809 (0.027)\n",
            "CART-padr: 0.805 (0.023)\n",
            "NB-padr: 0.877 (0.018)\n",
            "SVM-padr: 0.880 (0.021)\n",
            "KNN-norm: 0.783 (0.022)\n",
            "CART-norm: 0.803 (0.027)\n",
            "NB-norm: 0.877 (0.018)\n",
            "SVM-norm: 0.878 (0.024)\n"
          ]
        },
        {
          "data": {
            "image/png": "[encoded data removed]",
            "text/plain": [
              "<Figure size 2500x600 with 1 Axes>"
            ]
          },
          "metadata": {},
          "output_type": "display_data"
        }
      ],
      "source": [
        "np.random.seed(7)  # Definindo uma semente global para este bloco\n",
        "\n",
        "# Listas para armazenar os pipelines e os resultados\n",
        "pipelines = []\n",
        "results = []\n",
        "names = []\n",
        "\n",
        "# Criando os elementos do pipeline\n",
        "\n",
        "# Algoritmos que serão utilizados\n",
        "knn = KNeighborsClassifier()\n",
        "cart = DecisionTreeClassifier()\n",
        "naive_bayes = GaussianNB()\n",
        "svm = SVC()\n",
        "\n",
        "# Transformações que serão utilizadas\n",
        "standard_scaler = StandardScaler()\n",
        "min_max_scaler = MinMaxScaler()\n",
        "\n",
        "# Montando os pipelines\n",
        "\n",
        "# Dataset original\n",
        "pipelines.append(('KNN-orig', Pipeline([('classifier', knn)])))\n",
        "pipelines.append(('CART-orig', Pipeline([('classifier', cart)])))\n",
        "pipelines.append(('NB-orig', Pipeline([('classifier', naive_bayes)])))\n",
        "pipelines.append(('SVM-orig', Pipeline([('classifier', svm)])))\n",
        "\n",
        "# Dataset Padronizado\n",
        "pipelines.append(('KNN-padr', Pipeline([('scaler', standard_scaler), ('classifier', knn)])))\n",
        "pipelines.append(('CART-padr', Pipeline([('scaler', standard_scaler), ('classifier', cart)])))\n",
        "pipelines.append(('NB-padr', Pipeline([('scaler', standard_scaler), ('classifier', naive_bayes)])))\n",
        "pipelines.append(('SVM-padr', Pipeline([('scaler', standard_scaler), ('classifier', svm)])))\n",
        "\n",
        "# Dataset Normalizado\n",
        "pipelines.append(('KNN-norm', Pipeline([('scaler', min_max_scaler), ('classifier', knn)])))\n",
        "pipelines.append(('CART-norm', Pipeline([('scaler', min_max_scaler), ('classifier', cart)])))\n",
        "pipelines.append(('NB-norm', Pipeline([('scaler', min_max_scaler), ('classifier', naive_bayes)])))\n",
        "pipelines.append(('SVM-norm', Pipeline([('scaler', min_max_scaler), ('classifier', svm)])))\n",
        "\n",
        "# Executando os pipelines\n",
        "for name, model in pipelines:\n",
        "    cv_results = cross_val_score(model, X_train, y_train, cv=kfold, scoring=scoring)\n",
        "    results.append(cv_results)\n",
        "    names.append(name)\n",
        "    msg = \"%s: %.3f (%.3f)\" % (name, cv_results.mean(), cv_results.std())  # Formatando para 3 casas decimais\n",
        "    print(msg)\n",
        "\n",
        "# Boxplot de comparação dos modelos\n",
        "fig = plt.figure(figsize=(25,6))\n",
        "fig.suptitle('Comparação dos Modelos - Dataset original, padronizado e normalizado')\n",
        "ax = fig.add_subplot(111)\n",
        "plt.boxplot(results)\n",
        "ax.set_xticklabels(names, rotation=90)\n",
        "plt.show()\n"
      ]
    },
    {
      "cell_type": "markdown",
      "metadata": {
        "id": "f-f2vCU5CMmp"
      },
      "source": [
        "### Otimização dos hiperparâmetros\n",
        "\n",
        "# Nesta seção, realizamos a busca de hiperparâmetros para o modelo SVM utilizando `GridSearchCV`. Primeiramente, definimos uma semente global para garantir a reprodutibilidade dos resultados.\n",
        "# Três pipelines foram criados com diferentes configurações para o classificador SVM:\n",
        "# 1. **SVM - Dataset Original**: O classificador SVM é aplicado sem qualquer transformação nos dados.\n",
        "# 2. **SVM - Dataset Padronizado**: O classificador SVM é aplicado aos dados que foram padronizados utilizando `StandardScaler`.\n",
        "# 3. **SVM - Dataset Normalizado**: O classificador SVM é aplicado aos dados que foram normalizados utilizando `MinMaxScaler`.\n",
        "# Para cada pipeline, definimos um dicionário `param_grid` contendo os hiperparâmetros a serem otimizados:\n",
        "# - `C`: Parâmetro de regularização que controla o trade-off entre maximizar a margem e minimizar o erro de classificação.\n",
        "# - `gamma`: Parâmetro que define a influência de um único exemplo de treinamento, com opções para 'scale' e 'auto'.\n",
        "# - `kernel`: Tipo de função do kernel a ser utilizada, sendo a única opção neste caso 'rbf' (Radial Basis Function).\n",
        "# O `GridSearchCV` é utilizado para executar uma busca exaustiva sobre os hiperparâmetros especificados, utilizando validação cruzada (`StratifiedKFold`) para avaliar o desempenho. Para cada pipeline, a melhor configuração de hiperparâmetros encontrada e a respectiva acurácia são impressas.\n",
        "\n",
        "## Observação sobre a Otimização dos Hiperparâmetros\n",
        "# Durante o processo de otimização dos hiperparâmetros, percebi que a execução estava levando um tempo excessivo. Para contornar esse problema e acelerar o processo, optei por reduzir o número de hiperparâmetros no dicionário `param_grid`. Essa estratégia permitiu obter resultados mais rapidamente, facilitando a análise do desempenho do modelo SVM com diferentes configurações. No entanto, vale ressaltar que uma busca mais abrangente poderia ser realizada em futuras iterações para potencialmente encontrar configurações que resultem em uma maior acurácia.\n"
      ]
    },
    {
      "cell_type": "code",
      "execution_count": 6,
      "metadata": {
        "colab": {
          "base_uri": "https://localhost:8080/"
        },
        "id": "jBSDgpXNt1Fp",
        "outputId": "942479c4-ebb9-43a0-86a6-a18b3e16a1c7"
      },
      "outputs": [
        {
          "name": "stdout",
          "output_type": "stream",
          "text": [
            "Pipeline: SVM-orig - Melhor: 0.892329 usando {'classifier__C': 10, 'classifier__gamma': 'scale', 'classifier__kernel': 'rbf'}\n",
            "Pipeline: SVM-padr - Melhor: 0.879780 usando {'classifier__C': 1, 'classifier__gamma': 'scale', 'classifier__kernel': 'rbf'}\n",
            "Pipeline: SVM-norm - Melhor: 0.893376 usando {'classifier__C': 1, 'classifier__gamma': 'auto', 'classifier__kernel': 'rbf'}\n"
          ]
        }
      ],
      "source": [
        "np.random.seed(7)  # Definindo uma semente global para este bloco\n",
        "\n",
        "# Lista de pipelines\n",
        "pipelines = []\n",
        "\n",
        "# Definindo o classificador e os scalers\n",
        "svm = SVC(random_state=seed)\n",
        "standard_scaler = StandardScaler()\n",
        "min_max_scaler = MinMaxScaler()\n",
        "\n",
        "# Criando os pipelines\n",
        "pipelines.append(('SVM-orig', Pipeline(steps=[('classifier', svm)])))\n",
        "pipelines.append(('SVM-padr', Pipeline(steps=[('scaler', standard_scaler), ('classifier', svm)])))\n",
        "pipelines.append(('SVM-norm', Pipeline(steps=[('scaler', min_max_scaler), ('classifier', svm)])))\n",
        "\n",
        "# Definindo os parâmetros para a busca em grade\n",
        "param_grid = {\n",
        "    'classifier__C': [1, 10],\n",
        "    'classifier__gamma': ['scale', 'auto'],\n",
        "    'classifier__kernel': ['rbf']\n",
        "}\n",
        "\n",
        "# Preparando e executando o GridSearchCV\n",
        "for name, model in pipelines:\n",
        "    grid = GridSearchCV(estimator=model, param_grid=param_grid, scoring=scoring, cv=kfold)\n",
        "    grid.fit(X_train, y_train)\n",
        "    # Imprime a melhor configuração\n",
        "    print(\"Pipeline: %s - Melhor: %f usando %s\" % (name, grid.best_score_, grid.best_params_))\n"
      ]
    },
    {
      "cell_type": "markdown",
      "metadata": {
        "id": "cuUpaYcwDRDt"
      },
      "source": [
        "## Finalização do Modelo\n",
        "\n",
        "# Nesta seção, utilizamos o melhor modelo encontrado durante a execução do `GridSearchCV`, que neste caso foi um classificador SVM com as seguintes configurações:\n",
        "\n",
        "# - **C**: 1, que controla a penalidade do erro de classificação. Um valor menor faz com que o modelo seja mais simples e menos propenso a overfitting.\n",
        "# - **gamma**: 'auto', que determina a forma do núcleo e a influência dos exemplos de treinamento.\n",
        "# - **kernel**: 'rbf', que é o núcleo radial básico, adequado para problemas de classificação não linear.\n",
        "\n",
        "# Após configurar o modelo, o treinamento é realizado com os dados de treinamento (`X_train` e `y_train`). Em seguida, o modelo é avaliado utilizando o conjunto de teste (`X_test`), onde calculamos a acurácia das previsões feitas pelo modelo. A acurácia é uma métrica importante que indica a proporção de previsões corretas em relação ao total de previsões realizadas.\n"
      ]
    },
    {
      "cell_type": "code",
      "execution_count": 7,
      "metadata": {
        "colab": {
          "base_uri": "https://localhost:8080/"
        },
        "id": "lbrFxAbSDVIj",
        "outputId": "cc95b053-1ad1-4d75-e185-bbc4cf31b087"
      },
      "outputs": [
        {
          "name": "stdout",
          "output_type": "stream",
          "text": [
            "Acurácia no conjunto de teste: 0.9018789144050104\n"
          ]
        }
      ],
      "source": [
        "# Preparação do modelo\n",
        "# Usando o melhor modelo encontrado no GridSearchCV\n",
        "model = SVC(\n",
        "    C=1,\n",
        "    gamma='auto',\n",
        "    kernel='rbf',\n",
        "    random_state=seed\n",
        ")\n",
        "\n",
        "# Treinamento do modelo com os dados de treino\n",
        "model.fit(X_train, y_train)\n",
        "\n",
        "# Estimativa da acurácia no conjunto de teste\n",
        "predictions = model.predict(X_test)  # Predição usando o modelo treinado\n",
        "accuracy = accuracy_score(y_test, predictions)  # Cálculo da acurácia\n",
        "\n",
        "print(\"Acurácia no conjunto de teste:\", accuracy)"
      ]
    },
    {
      "cell_type": "markdown",
      "metadata": {
        "id": "wo5HGsyTw6Po"
      },
      "source": [
        "#Preparação do Modelo com Todo o Dataset\n",
        "\n",
        "# Após avaliarmos o desempenho do modelo utilizando o conjunto de teste, decidimos treinar o modelo final com todos os dados disponíveis. Isso é importante, pois ao utilizar o conjunto completo, o modelo pode capturar mais informações e padrões, potencialmente melhorando sua capacidade de generalização.\n",
        "\n",
        "# Utilizaremos novamente o classificador SVM, com os mesmos hiperparâmetros identificados como os melhores durante a otimização. O modelo será treinado usando o conjunto completo de características (`X`) e as respectivas classes (`y`).\n",
        "\n",
        "# Após o treinamento, o modelo treinado é exibido para que possamos verificar suas configurações e confirmar que ele foi corretamente preparado.\n"
      ]
    },
    {
      "cell_type": "code",
      "execution_count": 8,
      "metadata": {
        "colab": {
          "base_uri": "https://localhost:8080/"
        },
        "id": "iGeQHmeg4ziu",
        "outputId": "efc6370a-bfd4-4215-c364-9469e72031f1"
      },
      "outputs": [
        {
          "name": "stdout",
          "output_type": "stream",
          "text": [
            "SVC(C=1, gamma='auto', random_state=7)\n"
          ]
        }
      ],
      "source": [
        "# Preparação do modelo com TODO o dataset\n",
        "# Usando o melhor modelo encontrado no GridSearchCV\n",
        "model = SVC(\n",
        "    C=1,\n",
        "    gamma='auto',\n",
        "    kernel='rbf',\n",
        "    random_state=seed\n",
        ")\n",
        "model.fit(X, y)  # Treinamento do modelo com os dados originais\n",
        "\n",
        "# O modelo treinado é:\n",
        "print(model)\n"
      ]
    },
    {
      "cell_type": "markdown",
      "metadata": {
        "id": "xZ-FQWZj_OtQ"
      },
      "source": [
        "## Simulando a aplicação do modelo em dados não vistos\n",
        "\n",
        "# Nesta seção, realizaremos simulações com novos conjuntos de dados para prever a probabilidade de desistência dos alunos com base em suas características. Criamos três exemplos de dados novos que representam diferentes perfis de alunos, variando em idade, gênero, etnia, educação parental, tempo de estudo semanal, faltas, entre outros fatores.\n",
        "\n",
        "# Esses novos dados serão utilizados para fazer previsões usando o modelo SVM que foi treinado anteriormente. As previsões ajudarão a entender como o modelo se comporta com dados que não foram vistos durante o treinamento.\n",
        "\n",
        "# Após realizar as previsões, os resultados serão exibidos, indicando a probabilidade de cada aluno ser Aprovado ou Reprovado.\n"
      ]
    },
    {
      "cell_type": "code",
      "execution_count": 9,
      "metadata": {
        "colab": {
          "base_uri": "https://localhost:8080/"
        },
        "id": "JAIp6d9w5QG8",
        "outputId": "e3359237-53b4-41a2-d569-48dc26134596"
      },
      "outputs": [
        {
          "name": "stdout",
          "output_type": "stream",
          "text": [
            "Previsão para new_data_1: 1\n",
            "Previsão para new_data_2: 0\n",
            "Previsão para new_data_3: 0\n"
          ]
        }
      ],
      "source": [
        "# Simulações com diferentes conjuntos de dados\n",
        "\n",
        "# Exemplo de dados novos 1\n",
        "new_data_1 = pd.DataFrame({\n",
        "    'Age': [20],\n",
        "    'Gender': [1],\n",
        "    'Ethnicity': [1],\n",
        "    'ParentalEducation': [2],\n",
        "    'StudyTimeWeekly': [10],\n",
        "    'Absences': [5],\n",
        "    'Tutoring': [0],\n",
        "    'ParentalSupport': [1],\n",
        "    'Extracurricular': [1],\n",
        "    'Sports': [0],\n",
        "    'Music': [1],\n",
        "    'Volunteering': [0],\n",
        "})\n",
        "\n",
        "# Exemplo de dados novos 2\n",
        "new_data_2 = pd.DataFrame({\n",
        "    'Age': [22],\n",
        "    'Gender': [0],\n",
        "    'Ethnicity': [3],\n",
        "    'ParentalEducation': [4],\n",
        "    'StudyTimeWeekly': [20],\n",
        "    'Absences': [2],\n",
        "    'Tutoring': [1],\n",
        "    'ParentalSupport': [2],\n",
        "    'Extracurricular': [1],\n",
        "    'Sports': [1],\n",
        "    'Music': [0],\n",
        "    'Volunteering': [1],\n",
        "})\n",
        "\n",
        "# Exemplo de dados novos 3\n",
        "new_data_3 = pd.DataFrame({\n",
        "    'Age': [19],\n",
        "    'Gender': [1],\n",
        "    'Ethnicity': [0],\n",
        "    'ParentalEducation': [1],\n",
        "    'StudyTimeWeekly': [5],\n",
        "    'Absences': [10],\n",
        "    'Tutoring': [0],\n",
        "    'ParentalSupport': [0],\n",
        "    'Extracurricular': [0],\n",
        "    'Sports': [0],\n",
        "    'Music': [0],\n",
        "    'Volunteering': [0],\n",
        "})\n",
        "\n",
        "# Fazer previsões\n",
        "predictions_1 = model.predict(new_data_1)\n",
        "predictions_2 = model.predict(new_data_2)\n",
        "predictions_3 = model.predict(new_data_3)\n",
        "\n",
        "# Exibir os resultados\n",
        "print(\"Previsão para new_data_1:\", predictions_1[0])\n",
        "print(\"Previsão para new_data_2:\", predictions_2[0])\n",
        "print(\"Previsão para new_data_3:\", predictions_3[0])\n"
      ]
    },
    {
      "cell_type": "markdown",
      "metadata": {
        "id": "vpNeoDVZF3-b"
      },
      "source": [
        "## Salva o modelo treinado em um arquivo"
      ]
    },
    {
      "cell_type": "code",
      "execution_count": 10,
      "metadata": {
        "colab": {
          "base_uri": "https://localhost:8080/"
        },
        "id": "MIwMW5ExGA6f",
        "outputId": "68ecb849-26e1-4b9b-b03a-ad0dff314039"
      },
      "outputs": [
        {
          "name": "stdout",
          "output_type": "stream",
          "text": [
            "Modelo salvo como modelo_svm_aprovacao_reprovacao.pkl\n"
          ]
        }
      ],
      "source": [
        "# Salvar o modelo treinado em um arquivo\n",
        "model_filename = 'modelo_svm_aprovacao_reprovacao.pkl'\n",
        "with open(model_filename, 'wb') as file:\n",
        "    pickle.dump(model, file)\n",
        "\n",
        "print(f\"Modelo salvo como {model_filename}\")\n",
        "\n",
        "# Carregar o modelo salvo\n",
        "with open(model_filename, 'rb') as file:\n",
        "    loaded_model = pickle.load(file)\n",
        "\n",
        "# Fazer previsões com o modelo carregado\n",
        "predictions_loaded_model = loaded_model.predict(X_test)\n"
      ]
    },
    {
      "cell_type": "markdown",
      "metadata": {
        "id": "z5rK0hDPxtks"
      },
      "source": [
        "# Resumo dos Principais Achados\n",
        "Neste trabalho, desenvolvemos um modelo de classificação para prever a probabilidade de Aprovação ou Reprovação dos alunos\n",
        "com base em diversas características, como idade, gênero, etnia, educação parental, tempo de estudo semanal e outros fatores relevantes.\n",
        "\n",
        "Os resultados da validação cruzada indicaram que o modelo SVM com kernel radial (RBF) obteve a melhor acurácia,\n",
        "destacando-se entre os outros algoritmos testados, como KNN, Decision Tree e Naive Bayes.\n",
        "Essa escolha foi validada através do uso do GridSearchCV, que permitiu otimizar os hiperparâmetros do modelo, garantindo\n",
        "que os resultados fossem consistentes e robustos.\n",
        "\n",
        "Durante as simulações com novos conjuntos de dados, o modelo mostrou-se capaz de realizar previsões confiáveis,\n",
        "sugerindo que ele pode ser uma ferramenta útil para identificar alunos em risco de desistência e, assim, permitir\n",
        "que intervenções adequadas sejam feitas.\n",
        "\n",
        "# Pontos de Atenção\n",
        "- Apesar da alta acurácia, é crucial testar o modelo com dados reais e variados para garantir que ele se generalize bem em diferentes contextos.\n",
        "- A inclusão de variáveis adicionais que possam impactar o desempenho acadêmico dos alunos pode melhorar ainda mais a precisão das previsões.\n",
        "- É importante considerar como os resultados serão utilizados na prática. As previsões devem ser integradas a estratégias de suporte e intervenção para os alunos identificados como em risco.\n",
        "\n",
        "# Conclusão\n",
        "O projeto demonstrou a eficácia do uso de técnicas de machine learning, em particular o SVM, para abordar o problema da desistência escolar.\n",
        "Com a capacidade de identificar alunos em risco, as instituições de ensino podem implementar medidas proativas, como tutoria e apoio psicológico,\n",
        "para auxiliar esses estudantes. Além disso, os resultados reforçam a importância de uma análise contínua dos dados acadêmicos para garantir o sucesso dos alunos.\n",
        "A continuidade deste trabalho pode incluir a coleta de novos dados e a exploração de modelos mais complexos, visando sempre a melhoria das estratégias de retenção escolar.\n"
      ]
    }
  ],
  "metadata": {
    "colab": {
      "provenance": []
    },
    "kernelspec": {
      "display_name": "Python 3",
      "name": "python3"
    }
  },
  "nbformat": 4,
  "nbformat_minor": 0
}
